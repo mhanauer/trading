{
  "cells": [
    {
      "cell_type": "markdown",
      "source": [
        "Step: Load in data and functions"
      ],
      "metadata": {
        "nteract": {
          "transient": {
            "deleting": false
          }
        }
      }
    },
    {
      "cell_type": "code",
      "source": [],
      "outputs": [],
      "execution_count": null,
      "metadata": {}
    },
    {
      "cell_type": "code",
      "source": [
        "import joblib\r\n",
        "import os\r\n",
        "from pyprojroot import here\r\n",
        "import pandas as pd\r\n",
        "import numpy as np\r\n",
        "import xgboost as xgb\r\n",
        "import shap\r\n",
        "from azureml.core import Workspace, Dataset, Datastore\r\n",
        "from analysis.fun_drop_high_correlation import fun_drop_high_correlation\r\n",
        "from data_cleaning.fun_load_shap_data import fun_load_shap_data\r\n",
        "from analysis.fun_class_shape_clean_up import fun_class_shape_clean_up\r\n",
        "path_data = here(\"./data\")\r\n",
        "os.chdir(path_data)\r\n",
        "data_trading_with_dummies = pd.read_parquet('data_trading_with_dummies.parquet')\r\n",
        "path_outputs = here(\"./outputs\")\r\n",
        "os.chdir(path_outputs)\r\n",
        "results_xgb = joblib.load(\"results_xgb.jlib\")"
      ],
      "outputs": [],
      "execution_count": 8,
      "metadata": {
        "jupyter": {
          "source_hidden": false,
          "outputs_hidden": false
        },
        "nteract": {
          "transient": {
            "deleting": false
          }
        },
        "gather": {
          "logged": 1669471233017
        }
      }
    },
    {
      "cell_type": "code",
      "source": [
        "data_trading_with_dummies = data_trading_with_dummies.reset_index()\r\n",
        "data_id = data_trading_with_dummies['index']\r\n",
        "data_trading = data_trading_with_dummies.drop(columns = ['index'])"
      ],
      "outputs": [],
      "execution_count": 9,
      "metadata": {
        "jupyter": {
          "source_hidden": false,
          "outputs_hidden": false
        },
        "nteract": {
          "transient": {
            "deleting": false
          }
        },
        "gather": {
          "logged": 1669471246820
        }
      }
    },
    {
      "cell_type": "code",
      "source": [
        "data_trading_shap = fun_class_shape_clean_up(data_shap = data_trading, data_id= data_id, model = results_xgb)\r\n",
        "os.chdir(path_data)\r\n",
        "data_trading_shap.to_parquet(\"data_trading_shap.parquet\")"
      ],
      "outputs": [],
      "execution_count": 12,
      "metadata": {
        "jupyter": {
          "source_hidden": false,
          "outputs_hidden": false
        },
        "nteract": {
          "transient": {
            "deleting": false
          }
        },
        "gather": {
          "logged": 1669471303564
        }
      }
    },
    {
      "cell_type": "code",
      "source": [
        "data_trading"
      ],
      "outputs": [
        {
          "output_type": "execute_result",
          "execution_count": 15,
          "data": {
            "text/plain": "(5900, 91)"
          },
          "metadata": {}
        }
      ],
      "execution_count": 15,
      "metadata": {
        "jupyter": {
          "source_hidden": false,
          "outputs_hidden": false
        },
        "nteract": {
          "transient": {
            "deleting": false
          }
        },
        "gather": {
          "logged": 1669471532682
        }
      }
    },
    {
      "cell_type": "code",
      "source": [
        "data_trading"
      ],
      "outputs": [
        {
          "output_type": "execute_result",
          "execution_count": 21,
          "data": {
            "text/plain": "          buy     sell  qty      stp        sd     trend  level  volume  \\\n0     4320.00  4324.25    2  4299.00  4.178997  0.770979      0    1235   \n1     4322.25  4324.00    2  4313.50  1.753109  0.291084      0     897   \n2     4324.00  4325.75    1  4313.50  1.753109  0.291084      1     897   \n3     4324.25  4328.25    1  4299.00  4.178997  0.770979      1    1235   \n4     4327.00  4329.25    4  4320.25  2.225455  0.213287     -2    1042   \n...       ...      ...  ...      ...       ...       ...    ...     ...   \n5895  3990.25  3994.75    4  3977.25  4.370615  1.045455     -2    5208   \n5896  3999.00  4003.25    2  3977.25  4.370615  1.045455      0    5208   \n5897  3994.75  3999.00    3  3977.25  4.370615  1.045455     -1    5208   \n5898  4001.00  4006.00    2  3975.25  5.138240 -0.772727      0   15249   \n5899  3995.75  4001.00    3  3975.25  5.138240 -0.772727     -1   15249   \n\n          vloc  vtrend  ...  minute_15  minute_20  minute_25  minute_30  \\\n0    -0.705960  -268.8  ...          1          0          0          0   \n1     0.128701    63.2  ...          0          1          0          0   \n2     0.128701    63.2  ...          0          1          0          0   \n3    -0.705960  -268.8  ...          1          0          0          0   \n4     0.211966    14.2  ...          0          0          0          0   \n...        ...     ...  ...        ...        ...        ...        ...   \n5895 -1.519997 -1274.0  ...          0          0          0          0   \n5896 -1.519997 -1274.0  ...          0          0          0          0   \n5897 -1.519997 -1274.0  ...          0          0          0          0   \n5898  1.172985   675.7  ...          0          0          0          0   \n5899  1.172985   675.7  ...          0          0          0          0   \n\n      minute_35  minute_40  minute_45  minute_5  minute_50  minute_55  \n0             0          0          0         0          0          0  \n1             0          0          0         0          0          0  \n2             0          0          0         0          0          0  \n3             0          0          0         0          0          0  \n4             0          0          0         0          0          0  \n...         ...        ...        ...       ...        ...        ...  \n5895          0          1          0         0          0          0  \n5896          0          1          0         0          0          0  \n5897          0          1          0         0          0          0  \n5898          0          1          0         0          0          0  \n5899          0          1          0         0          0          0  \n\n[5900 rows x 91 columns]",
            "text/html": "<div>\n<style scoped>\n    .dataframe tbody tr th:only-of-type {\n        vertical-align: middle;\n    }\n\n    .dataframe tbody tr th {\n        vertical-align: top;\n    }\n\n    .dataframe thead th {\n        text-align: right;\n    }\n</style>\n<table border=\"1\" class=\"dataframe\">\n  <thead>\n    <tr style=\"text-align: right;\">\n      <th></th>\n      <th>buy</th>\n      <th>sell</th>\n      <th>qty</th>\n      <th>stp</th>\n      <th>sd</th>\n      <th>trend</th>\n      <th>level</th>\n      <th>volume</th>\n      <th>vloc</th>\n      <th>vtrend</th>\n      <th>...</th>\n      <th>minute_15</th>\n      <th>minute_20</th>\n      <th>minute_25</th>\n      <th>minute_30</th>\n      <th>minute_35</th>\n      <th>minute_40</th>\n      <th>minute_45</th>\n      <th>minute_5</th>\n      <th>minute_50</th>\n      <th>minute_55</th>\n    </tr>\n  </thead>\n  <tbody>\n    <tr>\n      <th>0</th>\n      <td>4320.00</td>\n      <td>4324.25</td>\n      <td>2</td>\n      <td>4299.00</td>\n      <td>4.178997</td>\n      <td>0.770979</td>\n      <td>0</td>\n      <td>1235</td>\n      <td>-0.705960</td>\n      <td>-268.8</td>\n      <td>...</td>\n      <td>1</td>\n      <td>0</td>\n      <td>0</td>\n      <td>0</td>\n      <td>0</td>\n      <td>0</td>\n      <td>0</td>\n      <td>0</td>\n      <td>0</td>\n      <td>0</td>\n    </tr>\n    <tr>\n      <th>1</th>\n      <td>4322.25</td>\n      <td>4324.00</td>\n      <td>2</td>\n      <td>4313.50</td>\n      <td>1.753109</td>\n      <td>0.291084</td>\n      <td>0</td>\n      <td>897</td>\n      <td>0.128701</td>\n      <td>63.2</td>\n      <td>...</td>\n      <td>0</td>\n      <td>1</td>\n      <td>0</td>\n      <td>0</td>\n      <td>0</td>\n      <td>0</td>\n      <td>0</td>\n      <td>0</td>\n      <td>0</td>\n      <td>0</td>\n    </tr>\n    <tr>\n      <th>2</th>\n      <td>4324.00</td>\n      <td>4325.75</td>\n      <td>1</td>\n      <td>4313.50</td>\n      <td>1.753109</td>\n      <td>0.291084</td>\n      <td>1</td>\n      <td>897</td>\n      <td>0.128701</td>\n      <td>63.2</td>\n      <td>...</td>\n      <td>0</td>\n      <td>1</td>\n      <td>0</td>\n      <td>0</td>\n      <td>0</td>\n      <td>0</td>\n      <td>0</td>\n      <td>0</td>\n      <td>0</td>\n      <td>0</td>\n    </tr>\n    <tr>\n      <th>3</th>\n      <td>4324.25</td>\n      <td>4328.25</td>\n      <td>1</td>\n      <td>4299.00</td>\n      <td>4.178997</td>\n      <td>0.770979</td>\n      <td>1</td>\n      <td>1235</td>\n      <td>-0.705960</td>\n      <td>-268.8</td>\n      <td>...</td>\n      <td>1</td>\n      <td>0</td>\n      <td>0</td>\n      <td>0</td>\n      <td>0</td>\n      <td>0</td>\n      <td>0</td>\n      <td>0</td>\n      <td>0</td>\n      <td>0</td>\n    </tr>\n    <tr>\n      <th>4</th>\n      <td>4327.00</td>\n      <td>4329.25</td>\n      <td>4</td>\n      <td>4320.25</td>\n      <td>2.225455</td>\n      <td>0.213287</td>\n      <td>-2</td>\n      <td>1042</td>\n      <td>0.211966</td>\n      <td>14.2</td>\n      <td>...</td>\n      <td>0</td>\n      <td>0</td>\n      <td>0</td>\n      <td>0</td>\n      <td>0</td>\n      <td>0</td>\n      <td>0</td>\n      <td>0</td>\n      <td>0</td>\n      <td>0</td>\n    </tr>\n    <tr>\n      <th>...</th>\n      <td>...</td>\n      <td>...</td>\n      <td>...</td>\n      <td>...</td>\n      <td>...</td>\n      <td>...</td>\n      <td>...</td>\n      <td>...</td>\n      <td>...</td>\n      <td>...</td>\n      <td>...</td>\n      <td>...</td>\n      <td>...</td>\n      <td>...</td>\n      <td>...</td>\n      <td>...</td>\n      <td>...</td>\n      <td>...</td>\n      <td>...</td>\n      <td>...</td>\n      <td>...</td>\n    </tr>\n    <tr>\n      <th>5895</th>\n      <td>3990.25</td>\n      <td>3994.75</td>\n      <td>4</td>\n      <td>3977.25</td>\n      <td>4.370615</td>\n      <td>1.045455</td>\n      <td>-2</td>\n      <td>5208</td>\n      <td>-1.519997</td>\n      <td>-1274.0</td>\n      <td>...</td>\n      <td>0</td>\n      <td>0</td>\n      <td>0</td>\n      <td>0</td>\n      <td>0</td>\n      <td>1</td>\n      <td>0</td>\n      <td>0</td>\n      <td>0</td>\n      <td>0</td>\n    </tr>\n    <tr>\n      <th>5896</th>\n      <td>3999.00</td>\n      <td>4003.25</td>\n      <td>2</td>\n      <td>3977.25</td>\n      <td>4.370615</td>\n      <td>1.045455</td>\n      <td>0</td>\n      <td>5208</td>\n      <td>-1.519997</td>\n      <td>-1274.0</td>\n      <td>...</td>\n      <td>0</td>\n      <td>0</td>\n      <td>0</td>\n      <td>0</td>\n      <td>0</td>\n      <td>1</td>\n      <td>0</td>\n      <td>0</td>\n      <td>0</td>\n      <td>0</td>\n    </tr>\n    <tr>\n      <th>5897</th>\n      <td>3994.75</td>\n      <td>3999.00</td>\n      <td>3</td>\n      <td>3977.25</td>\n      <td>4.370615</td>\n      <td>1.045455</td>\n      <td>-1</td>\n      <td>5208</td>\n      <td>-1.519997</td>\n      <td>-1274.0</td>\n      <td>...</td>\n      <td>0</td>\n      <td>0</td>\n      <td>0</td>\n      <td>0</td>\n      <td>0</td>\n      <td>1</td>\n      <td>0</td>\n      <td>0</td>\n      <td>0</td>\n      <td>0</td>\n    </tr>\n    <tr>\n      <th>5898</th>\n      <td>4001.00</td>\n      <td>4006.00</td>\n      <td>2</td>\n      <td>3975.25</td>\n      <td>5.138240</td>\n      <td>-0.772727</td>\n      <td>0</td>\n      <td>15249</td>\n      <td>1.172985</td>\n      <td>675.7</td>\n      <td>...</td>\n      <td>0</td>\n      <td>0</td>\n      <td>0</td>\n      <td>0</td>\n      <td>0</td>\n      <td>1</td>\n      <td>0</td>\n      <td>0</td>\n      <td>0</td>\n      <td>0</td>\n    </tr>\n    <tr>\n      <th>5899</th>\n      <td>3995.75</td>\n      <td>4001.00</td>\n      <td>3</td>\n      <td>3975.25</td>\n      <td>5.138240</td>\n      <td>-0.772727</td>\n      <td>-1</td>\n      <td>15249</td>\n      <td>1.172985</td>\n      <td>675.7</td>\n      <td>...</td>\n      <td>0</td>\n      <td>0</td>\n      <td>0</td>\n      <td>0</td>\n      <td>0</td>\n      <td>1</td>\n      <td>0</td>\n      <td>0</td>\n      <td>0</td>\n      <td>0</td>\n    </tr>\n  </tbody>\n</table>\n<p>5900 rows × 91 columns</p>\n</div>"
          },
          "metadata": {}
        }
      ],
      "execution_count": 21,
      "metadata": {
        "jupyter": {
          "source_hidden": false,
          "outputs_hidden": false
        },
        "nteract": {
          "transient": {
            "deleting": false
          }
        },
        "gather": {
          "logged": 1669471672330
        }
      }
    },
    {
      "cell_type": "code",
      "source": [
        "shap.summary_plot([data_trading_shap.drop(columns = ['index'])], [data_trading])"
      ],
      "outputs": [
        {
          "output_type": "error",
          "ename": "TypeError",
          "evalue": "only integer scalar arrays can be converted to a scalar index",
          "traceback": [
            "\u001b[0;31m---------------------------------------------------------------------------\u001b[0m",
            "\u001b[0;31mTypeError\u001b[0m                                 Traceback (most recent call last)",
            "Input \u001b[0;32mIn [20]\u001b[0m, in \u001b[0;36m<cell line: 1>\u001b[0;34m()\u001b[0m\n\u001b[0;32m----> 1\u001b[0m \u001b[43mshap\u001b[49m\u001b[38;5;241;43m.\u001b[39;49m\u001b[43msummary_plot\u001b[49m\u001b[43m(\u001b[49m\u001b[43m[\u001b[49m\u001b[43mdata_trading_shap\u001b[49m\u001b[38;5;241;43m.\u001b[39;49m\u001b[43mdrop\u001b[49m\u001b[43m(\u001b[49m\u001b[43mcolumns\u001b[49m\u001b[43m \u001b[49m\u001b[38;5;241;43m=\u001b[39;49m\u001b[43m \u001b[49m\u001b[43m[\u001b[49m\u001b[38;5;124;43m'\u001b[39;49m\u001b[38;5;124;43mindex\u001b[39;49m\u001b[38;5;124;43m'\u001b[39;49m\u001b[43m]\u001b[49m\u001b[43m)\u001b[49m\u001b[43m]\u001b[49m\u001b[43m,\u001b[49m\u001b[43m \u001b[49m\u001b[43m[\u001b[49m\u001b[43mdata_trading\u001b[49m\u001b[43m]\u001b[49m\u001b[43m)\u001b[49m\n",
            "File \u001b[0;32m/anaconda/envs/azureml_py38/lib/python3.8/site-packages/shap/plots/_beeswarm.py:848\u001b[0m, in \u001b[0;36msummary_legacy\u001b[0;34m(shap_values, features, feature_names, max_display, plot_type, color, axis_color, title, alpha, show, sort, color_bar, plot_size, layered_violin_max_num_bins, class_names, class_inds, color_bar_label, cmap, auto_size_plot, use_log_scale)\u001b[0m\n\u001b[1;32m    846\u001b[0m     class_inds \u001b[38;5;241m=\u001b[39m \u001b[38;5;28mrange\u001b[39m(\u001b[38;5;28mlen\u001b[39m(shap_values))\n\u001b[1;32m    847\u001b[0m \u001b[38;5;28;01mfor\u001b[39;00m i, ind \u001b[38;5;129;01min\u001b[39;00m \u001b[38;5;28menumerate\u001b[39m(class_inds):\n\u001b[0;32m--> 848\u001b[0m     global_shap_values \u001b[38;5;241m=\u001b[39m np\u001b[38;5;241m.\u001b[39mabs(\u001b[43mshap_values\u001b[49m\u001b[43m[\u001b[49m\u001b[43mind\u001b[49m\u001b[43m]\u001b[49m)\u001b[38;5;241m.\u001b[39mmean(\u001b[38;5;241m0\u001b[39m)\n\u001b[1;32m    849\u001b[0m     pl\u001b[38;5;241m.\u001b[39mbarh(\n\u001b[1;32m    850\u001b[0m         y_pos, global_shap_values[feature_inds], \u001b[38;5;241m0.7\u001b[39m, left\u001b[38;5;241m=\u001b[39mleft_pos, align\u001b[38;5;241m=\u001b[39m\u001b[38;5;124m'\u001b[39m\u001b[38;5;124mcenter\u001b[39m\u001b[38;5;124m'\u001b[39m,\n\u001b[1;32m    851\u001b[0m         color\u001b[38;5;241m=\u001b[39mcolor(i), label\u001b[38;5;241m=\u001b[39mclass_names[ind]\n\u001b[1;32m    852\u001b[0m     )\n\u001b[1;32m    853\u001b[0m     left_pos \u001b[38;5;241m+\u001b[39m\u001b[38;5;241m=\u001b[39m global_shap_values[feature_inds]\n",
            "\u001b[0;31mTypeError\u001b[0m: only integer scalar arrays can be converted to a scalar index"
          ]
        }
      ],
      "execution_count": 20,
      "metadata": {
        "jupyter": {
          "source_hidden": false,
          "outputs_hidden": false
        },
        "nteract": {
          "transient": {
            "deleting": false
          }
        },
        "gather": {
          "logged": 1669471637704
        }
      }
    }
  ],
  "metadata": {
    "kernelspec": {
      "name": "python38-azureml",
      "language": "python",
      "display_name": "Python 3.8 - AzureML"
    },
    "language_info": {
      "name": "python",
      "version": "3.8.5",
      "mimetype": "text/x-python",
      "codemirror_mode": {
        "name": "ipython",
        "version": 3
      },
      "pygments_lexer": "ipython3",
      "nbconvert_exporter": "python",
      "file_extension": ".py"
    },
    "kernel_info": {
      "name": "python38-azureml"
    },
    "nteract": {
      "version": "nteract-front-end@1.0.0"
    },
    "microsoft": {
      "host": {
        "AzureML": {
          "notebookHasBeenCompleted": true
        }
      }
    }
  },
  "nbformat": 4,
  "nbformat_minor": 2
}