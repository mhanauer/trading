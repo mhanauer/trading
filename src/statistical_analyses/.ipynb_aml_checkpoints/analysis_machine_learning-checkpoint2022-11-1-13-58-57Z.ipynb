{
  "cells": [
    {
      "cell_type": "markdown",
      "source": [
        "Step: Load in packages"
      ],
      "metadata": {
        "nteract": {
          "transient": {
            "deleting": false
          }
        }
      }
    },
    {
      "cell_type": "code",
      "source": [
        "%load_ext lab_black"
      ],
      "outputs": [
        {
          "output_type": "stream",
          "name": "stdout",
          "text": "The lab_black extension is already loaded. To reload it, use:\n  %reload_ext lab_black\n"
        }
      ],
      "execution_count": 29,
      "metadata": {}
    },
    {
      "cell_type": "code",
      "source": [
        "import xgboost as xgb\n",
        "import numpy as np\n",
        "from skimpy import clean_columns\n",
        "import pandas as pd\n",
        "from pyprojroot import here\n",
        "import os\n",
        "import mlflow\n",
        "import pandas as pd\n",
        "import sklearn\n",
        "from skopt import BayesSearchCV\n",
        "from joblib import dump, load\n",
        "from sklearn.metrics import precision_recall_curve\n",
        "from sklearn.metrics import roc_auc_score, balanced_accuracy_score, f1_score\n",
        "from sklearn.metrics import plot_precision_recall_curve\n",
        "from sklearn.model_selection import train_test_split\n",
        "import joblib\n",
        "from analysis.fun_class_positive_predictions import fun_class_positive_predictions\n",
        "from sklearn.model_selection import RepeatedKFold\n",
        "from analysis.fun_classifer_xgboost_bayes import fun_classifer_xgboost_bayes\n",
        "from analysis.fun_imbalanced_threshold_locator import fun_imbalanced_threshold_locator\n",
        "from analysis.fun_class_accuracy_calcaulator import fun_class_accuracy_calcaulator\n",
        "from analysis.fun_drop_high_correlation import fun_drop_high_correlation\n",
        "import lightgbm as lgb\n",
        "from analysis.fun_imbalanced_threshold import fun_imbalanced_threshold\n",
        "from analysis.fun_class_predictions_id import fun_class_predictions_id\n",
        "\n",
        "path_data = here(\"./data\")\n",
        "os.chdir(path_data)\n",
        "data_trading_analysis = pd.read_parquet(\"data_trading_good_features.parquet\")"
      ],
      "outputs": [],
      "execution_count": 30,
      "metadata": {
        "jupyter": {
          "source_hidden": false,
          "outputs_hidden": false
        },
        "nteract": {
          "transient": {
            "deleting": false
          }
        },
        "gather": {
          "logged": 1669850281294
        }
      }
    },
    {
      "cell_type": "markdown",
      "source": [
        "Step: Add an id, because you are lazy want to use your pre-built function"
      ],
      "metadata": {
        "nteract": {
          "transient": {
            "deleting": false
          }
        }
      }
    },
    {
      "cell_type": "code",
      "source": [
        "data_trading_analysis_id = data_trading_analysis.reset_index()"
      ],
      "outputs": [],
      "execution_count": 31,
      "metadata": {
        "jupyter": {
          "source_hidden": false,
          "outputs_hidden": false
        },
        "nteract": {
          "transient": {
            "deleting": false
          }
        },
        "gather": {
          "logged": 1669850283276
        }
      }
    },
    {
      "cell_type": "markdown",
      "source": [
        "Step: Remove highly correlated features"
      ],
      "metadata": {
        "nteract": {
          "transient": {
            "deleting": false
          }
        }
      }
    },
    {
      "cell_type": "code",
      "source": [
        "data_trading_analysis_low_corr = fun_drop_high_correlation(\n",
        "    data=data_trading_analysis_id,\n",
        "    outcome=[\"result\"],\n",
        ")\n",
        "\n",
        "data_trading_analysis_low_corr.to_parquet(\"data_trading_analysis_low_corr.parquet\")"
      ],
      "outputs": [],
      "execution_count": 32,
      "metadata": {
        "jupyter": {
          "source_hidden": false,
          "outputs_hidden": false
        },
        "nteract": {
          "transient": {
            "deleting": false
          }
        },
        "gather": {
          "logged": 1669850288042
        }
      }
    },
    {
      "cell_type": "markdown",
      "source": [
        "Step: Split test and training"
      ],
      "metadata": {
        "nteract": {
          "transient": {
            "deleting": false
          }
        }
      }
    },
    {
      "cell_type": "code",
      "source": [
        "x = data_trading_analysis_low_corr.drop(columns=[\"result\"])\n",
        "y = data_trading_analysis_low_corr[\"result\"]\n",
        "\n",
        "x_train, x_test, y_train, y_test = train_test_split(\n",
        "    x, y, test_size=0.2, random_state=42\n",
        ")"
      ],
      "outputs": [],
      "execution_count": 33,
      "metadata": {
        "jupyter": {
          "source_hidden": false,
          "outputs_hidden": false
        },
        "nteract": {
          "transient": {
            "deleting": false
          }
        },
        "gather": {
          "logged": 1669850291210
        }
      }
    },
    {
      "cell_type": "markdown",
      "source": [
        "Step: Get the imbalance measurement"
      ],
      "metadata": {
        "nteract": {
          "transient": {
            "deleting": false
          }
        }
      }
    },
    {
      "cell_type": "code",
      "source": [
        "from analysis.fun_scale_pos_weight import fun_scale_pos_weight\n",
        "\n",
        "scale_pos_weight = fun_scale_pos_weight(y_train=y_train, outcome=\"result\")\n",
        "scale_pos_weight"
      ],
      "outputs": [
        {
          "output_type": "execute_result",
          "execution_count": 34,
          "data": {
            "text/plain": "-0.5"
          },
          "metadata": {}
        }
      ],
      "execution_count": 34,
      "metadata": {
        "jupyter": {
          "source_hidden": false,
          "outputs_hidden": false
        },
        "nteract": {
          "transient": {
            "deleting": false
          }
        },
        "gather": {
          "logged": 1669850293444
        }
      }
    },
    {
      "cell_type": "markdown",
      "source": [
        "Step: Run ML "
      ],
      "metadata": {
        "nteract": {
          "transient": {
            "deleting": false
          }
        }
      }
    },
    {
      "cell_type": "code",
      "source": [
        "results_xgb = fun_classifer_xgboost_bayes(\n",
        "    scale_pos_weight=scale_pos_weight,\n",
        "    x_train=x_train,\n",
        "    y_train=y_train,\n",
        "    n_splits=3,\n",
        "    n_repeats=3,\n",
        "    id_var=\"index\",\n",
        ")\n",
        "\n",
        "path_outputs = here(\"./outputs\")\n",
        "os.chdir(path_outputs)\n",
        "joblib.dump(results_xgb, \"results_xgb.jlib\")"
      ],
      "outputs": [
        {
          "output_type": "error",
          "ename": "ValueError",
          "evalue": "the lower bound -0.5 has to be less than the upper bound -0.525",
          "traceback": [
            "\u001b[0;31m---------------------------------------------------------------------------\u001b[0m",
            "\u001b[0;31mValueError\u001b[0m                                Traceback (most recent call last)",
            "Input \u001b[0;32mIn [35]\u001b[0m, in \u001b[0;36m<cell line: 1>\u001b[0;34m()\u001b[0m\n\u001b[0;32m----> 1\u001b[0m results_xgb \u001b[38;5;241m=\u001b[39m \u001b[43mfun_classifer_xgboost_bayes\u001b[49m\u001b[43m(\u001b[49m\n\u001b[1;32m      2\u001b[0m \u001b[43m    \u001b[49m\u001b[43mscale_pos_weight\u001b[49m\u001b[38;5;241;43m=\u001b[39;49m\u001b[43mscale_pos_weight\u001b[49m\u001b[43m,\u001b[49m\n\u001b[1;32m      3\u001b[0m \u001b[43m    \u001b[49m\u001b[43mx_train\u001b[49m\u001b[38;5;241;43m=\u001b[39;49m\u001b[43mx_train\u001b[49m\u001b[43m,\u001b[49m\n\u001b[1;32m      4\u001b[0m \u001b[43m    \u001b[49m\u001b[43my_train\u001b[49m\u001b[38;5;241;43m=\u001b[39;49m\u001b[43my_train\u001b[49m\u001b[43m,\u001b[49m\n\u001b[1;32m      5\u001b[0m \u001b[43m    \u001b[49m\u001b[43mn_splits\u001b[49m\u001b[38;5;241;43m=\u001b[39;49m\u001b[38;5;241;43m3\u001b[39;49m\u001b[43m,\u001b[49m\n\u001b[1;32m      6\u001b[0m \u001b[43m    \u001b[49m\u001b[43mn_repeats\u001b[49m\u001b[38;5;241;43m=\u001b[39;49m\u001b[38;5;241;43m3\u001b[39;49m\u001b[43m,\u001b[49m\n\u001b[1;32m      7\u001b[0m \u001b[43m    \u001b[49m\u001b[43mid_var\u001b[49m\u001b[38;5;241;43m=\u001b[39;49m\u001b[38;5;124;43m\"\u001b[39;49m\u001b[38;5;124;43mindex\u001b[39;49m\u001b[38;5;124;43m\"\u001b[39;49m\u001b[43m,\u001b[49m\n\u001b[1;32m      8\u001b[0m \u001b[43m)\u001b[49m\n\u001b[1;32m     10\u001b[0m path_outputs \u001b[38;5;241m=\u001b[39m here(\u001b[38;5;124m\"\u001b[39m\u001b[38;5;124m./outputs\u001b[39m\u001b[38;5;124m\"\u001b[39m)\n\u001b[1;32m     11\u001b[0m os\u001b[38;5;241m.\u001b[39mchdir(path_outputs)\n",
            "File \u001b[0;32m/anaconda/envs/azureml_py38/lib/python3.8/site-packages/analysis/fun_classifer_xgboost_bayes.py:39\u001b[0m, in \u001b[0;36mfun_classifer_xgboost_bayes\u001b[0;34m(scale_pos_weight, x_train, y_train, n_splits, n_repeats, id_var)\u001b[0m\n\u001b[1;32m     25\u001b[0m estimator \u001b[38;5;241m=\u001b[39m xgb\u001b[38;5;241m.\u001b[39mXGBClassifier(\n\u001b[1;32m     26\u001b[0m     objective\u001b[38;5;241m=\u001b[39m\u001b[38;5;124m\"\u001b[39m\u001b[38;5;124mbinary:logistic\u001b[39m\u001b[38;5;124m\"\u001b[39m, eval_metric\u001b[38;5;241m=\u001b[39m\u001b[38;5;124m\"\u001b[39m\u001b[38;5;124mauc\u001b[39m\u001b[38;5;124m\"\u001b[39m, tree_method\u001b[38;5;241m=\u001b[39m\u001b[38;5;124m\"\u001b[39m\u001b[38;5;124mhist\u001b[39m\u001b[38;5;124m\"\u001b[39m, n_jobs \u001b[38;5;241m=\u001b[39m \u001b[38;5;241m-\u001b[39m\u001b[38;5;241m1\u001b[39m\n\u001b[1;32m     27\u001b[0m )\n\u001b[1;32m     28\u001b[0m search_spaces \u001b[38;5;241m=\u001b[39m {\n\u001b[1;32m     29\u001b[0m     \u001b[38;5;124m\"\u001b[39m\u001b[38;5;124mlearning_rate\u001b[39m\u001b[38;5;124m\"\u001b[39m: (\u001b[38;5;241m0.01\u001b[39m, \u001b[38;5;241m0.3\u001b[39m),\n\u001b[1;32m     30\u001b[0m     \u001b[38;5;124m\"\u001b[39m\u001b[38;5;124mmax_depth\u001b[39m\u001b[38;5;124m\"\u001b[39m: (\u001b[38;5;241m2\u001b[39m, \u001b[38;5;241m5\u001b[39m),\n\u001b[0;32m   (...)\u001b[0m\n\u001b[1;32m     37\u001b[0m     ),\n\u001b[1;32m     38\u001b[0m }\n\u001b[0;32m---> 39\u001b[0m bayes_cv_tuner \u001b[38;5;241m=\u001b[39m \u001b[43mBayesSearchCV\u001b[49m\u001b[43m(\u001b[49m\n\u001b[1;32m     40\u001b[0m \u001b[43m    \u001b[49m\u001b[43mestimator\u001b[49m\u001b[38;5;241;43m=\u001b[39;49m\u001b[43mestimator\u001b[49m\u001b[43m,\u001b[49m\n\u001b[1;32m     41\u001b[0m \u001b[43m    \u001b[49m\u001b[43msearch_spaces\u001b[49m\u001b[38;5;241;43m=\u001b[39;49m\u001b[43msearch_spaces\u001b[49m\u001b[43m,\u001b[49m\n\u001b[1;32m     42\u001b[0m \u001b[43m    \u001b[49m\u001b[43mcv\u001b[49m\u001b[38;5;241;43m=\u001b[39;49m\u001b[43mrkf\u001b[49m\u001b[43m,\u001b[49m\n\u001b[1;32m     43\u001b[0m \u001b[43m    \u001b[49m\u001b[43mverbose\u001b[49m\u001b[38;5;241;43m=\u001b[39;49m\u001b[38;5;241;43m0\u001b[39;49m\u001b[43m,\u001b[49m\n\u001b[1;32m     44\u001b[0m \u001b[43m    \u001b[49m\u001b[43mrefit\u001b[49m\u001b[38;5;241;43m=\u001b[39;49m\u001b[38;5;28;43;01mTrue\u001b[39;49;00m\u001b[43m,\u001b[49m\n\u001b[1;32m     45\u001b[0m \u001b[43m\u001b[49m\u001b[43m)\u001b[49m\n\u001b[1;32m     46\u001b[0m id_var \u001b[38;5;241m=\u001b[39m id_var\n\u001b[1;32m     48\u001b[0m \u001b[38;5;28;01mif\u001b[39;00m id_var \u001b[38;5;241m==\u001b[39m \u001b[38;5;124m\"\u001b[39m\u001b[38;5;124mNone\u001b[39m\u001b[38;5;124m\"\u001b[39m:\n",
            "File \u001b[0;32m/anaconda/envs/azureml_py38/lib/python3.8/site-packages/skopt/searchcv.py:292\u001b[0m, in \u001b[0;36mBayesSearchCV.__init__\u001b[0;34m(self, estimator, search_spaces, optimizer_kwargs, n_iter, scoring, fit_params, n_jobs, n_points, iid, refit, cv, verbose, pre_dispatch, random_state, error_score, return_train_score)\u001b[0m\n\u001b[1;32m    290\u001b[0m \u001b[38;5;28mself\u001b[39m\u001b[38;5;241m.\u001b[39mrandom_state \u001b[38;5;241m=\u001b[39m random_state\n\u001b[1;32m    291\u001b[0m \u001b[38;5;28mself\u001b[39m\u001b[38;5;241m.\u001b[39moptimizer_kwargs \u001b[38;5;241m=\u001b[39m optimizer_kwargs\n\u001b[0;32m--> 292\u001b[0m \u001b[38;5;28;43mself\u001b[39;49m\u001b[38;5;241;43m.\u001b[39;49m\u001b[43m_check_search_space\u001b[49m\u001b[43m(\u001b[49m\u001b[38;5;28;43mself\u001b[39;49m\u001b[38;5;241;43m.\u001b[39;49m\u001b[43msearch_spaces\u001b[49m\u001b[43m)\u001b[49m\n\u001b[1;32m    293\u001b[0m \u001b[38;5;66;03m# Temporary fix for compatibility with sklearn 0.20 and 0.21\u001b[39;00m\n\u001b[1;32m    294\u001b[0m \u001b[38;5;66;03m# See scikit-optimize#762\u001b[39;00m\n\u001b[1;32m    295\u001b[0m \u001b[38;5;66;03m# To be consistent with sklearn 0.21+, fit_params should be deprecated\u001b[39;00m\n\u001b[1;32m    296\u001b[0m \u001b[38;5;66;03m# in the constructor and be passed in ``fit``.\u001b[39;00m\n\u001b[1;32m    297\u001b[0m \u001b[38;5;28mself\u001b[39m\u001b[38;5;241m.\u001b[39mfit_params \u001b[38;5;241m=\u001b[39m fit_params\n",
            "File \u001b[0;32m/anaconda/envs/azureml_py38/lib/python3.8/site-packages/skopt/searchcv.py:357\u001b[0m, in \u001b[0;36mBayesSearchCV._check_search_space\u001b[0;34m(self, search_space)\u001b[0m\n\u001b[1;32m    355\u001b[0m     \u001b[38;5;28;01mfor\u001b[39;00m subspace \u001b[38;5;129;01min\u001b[39;00m dicts_only:\n\u001b[1;32m    356\u001b[0m         \u001b[38;5;28;01mfor\u001b[39;00m k, v \u001b[38;5;129;01min\u001b[39;00m subspace\u001b[38;5;241m.\u001b[39mitems():\n\u001b[0;32m--> 357\u001b[0m             \u001b[43mcheck_dimension\u001b[49m\u001b[43m(\u001b[49m\u001b[43mv\u001b[49m\u001b[43m)\u001b[49m\n\u001b[1;32m    358\u001b[0m \u001b[38;5;28;01melse\u001b[39;00m:\n\u001b[1;32m    359\u001b[0m     \u001b[38;5;28;01mraise\u001b[39;00m \u001b[38;5;167;01mTypeError\u001b[39;00m(\n\u001b[1;32m    360\u001b[0m         \u001b[38;5;124m\"\u001b[39m\u001b[38;5;124mSearch space should be provided as a dict or list of dict,\u001b[39m\u001b[38;5;124m\"\u001b[39m\n\u001b[1;32m    361\u001b[0m         \u001b[38;5;124m\"\u001b[39m\u001b[38;5;124mgot \u001b[39m\u001b[38;5;132;01m%s\u001b[39;00m\u001b[38;5;124m\"\u001b[39m \u001b[38;5;241m%\u001b[39m search_space)\n",
            "File \u001b[0;32m/anaconda/envs/azureml_py38/lib/python3.8/site-packages/skopt/space/space.py:108\u001b[0m, in \u001b[0;36mcheck_dimension\u001b[0;34m(dimension, transform)\u001b[0m\n\u001b[1;32m    106\u001b[0m     \u001b[38;5;28;01mreturn\u001b[39;00m Integer(\u001b[38;5;241m*\u001b[39mdimension, transform\u001b[38;5;241m=\u001b[39mtransform)\n\u001b[1;32m    107\u001b[0m \u001b[38;5;28;01melif\u001b[39;00m \u001b[38;5;28many\u001b[39m([\u001b[38;5;28misinstance\u001b[39m(dim, numbers\u001b[38;5;241m.\u001b[39mReal) \u001b[38;5;28;01mfor\u001b[39;00m dim \u001b[38;5;129;01min\u001b[39;00m dimension]):\n\u001b[0;32m--> 108\u001b[0m     \u001b[38;5;28;01mreturn\u001b[39;00m \u001b[43mReal\u001b[49m\u001b[43m(\u001b[49m\u001b[38;5;241;43m*\u001b[39;49m\u001b[43mdimension\u001b[49m\u001b[43m,\u001b[49m\u001b[43m \u001b[49m\u001b[43mtransform\u001b[49m\u001b[38;5;241;43m=\u001b[39;49m\u001b[43mtransform\u001b[49m\u001b[43m)\u001b[49m\n\u001b[1;32m    109\u001b[0m \u001b[38;5;28;01melse\u001b[39;00m:\n\u001b[1;32m    110\u001b[0m     \u001b[38;5;28;01mraise\u001b[39;00m \u001b[38;5;167;01mValueError\u001b[39;00m(\u001b[38;5;124m\"\u001b[39m\u001b[38;5;124mInvalid dimension \u001b[39m\u001b[38;5;132;01m{}\u001b[39;00m\u001b[38;5;124m. Read the documentation for\u001b[39m\u001b[38;5;124m\"\u001b[39m\n\u001b[1;32m    111\u001b[0m                      \u001b[38;5;124m\"\u001b[39m\u001b[38;5;124m supported types.\u001b[39m\u001b[38;5;124m\"\u001b[39m\u001b[38;5;241m.\u001b[39mformat(dimension))\n",
            "File \u001b[0;32m/anaconda/envs/azureml_py38/lib/python3.8/site-packages/skopt/space/space.py:255\u001b[0m, in \u001b[0;36mReal.__init__\u001b[0;34m(self, low, high, prior, base, transform, name, dtype)\u001b[0m\n\u001b[1;32m    252\u001b[0m \u001b[38;5;28;01mdef\u001b[39;00m \u001b[38;5;21m__init__\u001b[39m(\u001b[38;5;28mself\u001b[39m, low, high, prior\u001b[38;5;241m=\u001b[39m\u001b[38;5;124m\"\u001b[39m\u001b[38;5;124muniform\u001b[39m\u001b[38;5;124m\"\u001b[39m, base\u001b[38;5;241m=\u001b[39m\u001b[38;5;241m10\u001b[39m, transform\u001b[38;5;241m=\u001b[39m\u001b[38;5;28;01mNone\u001b[39;00m,\n\u001b[1;32m    253\u001b[0m              name\u001b[38;5;241m=\u001b[39m\u001b[38;5;28;01mNone\u001b[39;00m, dtype\u001b[38;5;241m=\u001b[39m\u001b[38;5;28mfloat\u001b[39m):\n\u001b[1;32m    254\u001b[0m     \u001b[38;5;28;01mif\u001b[39;00m high \u001b[38;5;241m<\u001b[39m\u001b[38;5;241m=\u001b[39m low:\n\u001b[0;32m--> 255\u001b[0m         \u001b[38;5;28;01mraise\u001b[39;00m \u001b[38;5;167;01mValueError\u001b[39;00m(\u001b[38;5;124m\"\u001b[39m\u001b[38;5;124mthe lower bound \u001b[39m\u001b[38;5;132;01m{}\u001b[39;00m\u001b[38;5;124m has to be less than the\u001b[39m\u001b[38;5;124m\"\u001b[39m\n\u001b[1;32m    256\u001b[0m                          \u001b[38;5;124m\"\u001b[39m\u001b[38;5;124m upper bound \u001b[39m\u001b[38;5;132;01m{}\u001b[39;00m\u001b[38;5;124m\"\u001b[39m\u001b[38;5;241m.\u001b[39mformat(low, high))\n\u001b[1;32m    257\u001b[0m     \u001b[38;5;28;01mif\u001b[39;00m prior \u001b[38;5;129;01mnot\u001b[39;00m \u001b[38;5;129;01min\u001b[39;00m [\u001b[38;5;124m\"\u001b[39m\u001b[38;5;124muniform\u001b[39m\u001b[38;5;124m\"\u001b[39m, \u001b[38;5;124m\"\u001b[39m\u001b[38;5;124mlog-uniform\u001b[39m\u001b[38;5;124m\"\u001b[39m]:\n\u001b[1;32m    258\u001b[0m         \u001b[38;5;28;01mraise\u001b[39;00m \u001b[38;5;167;01mValueError\u001b[39;00m(\u001b[38;5;124m\"\u001b[39m\u001b[38;5;124mprior should be \u001b[39m\u001b[38;5;124m'\u001b[39m\u001b[38;5;124muniform\u001b[39m\u001b[38;5;124m'\u001b[39m\u001b[38;5;124m or \u001b[39m\u001b[38;5;124m'\u001b[39m\u001b[38;5;124mlog-uniform\u001b[39m\u001b[38;5;124m'\u001b[39m\u001b[38;5;124m\"\u001b[39m\n\u001b[1;32m    259\u001b[0m                          \u001b[38;5;124m\"\u001b[39m\u001b[38;5;124m got \u001b[39m\u001b[38;5;132;01m{}\u001b[39;00m\u001b[38;5;124m\"\u001b[39m\u001b[38;5;241m.\u001b[39mformat(prior))\n",
            "\u001b[0;31mValueError\u001b[0m: the lower bound -0.5 has to be less than the upper bound -0.525"
          ]
        }
      ],
      "execution_count": 35,
      "metadata": {
        "jupyter": {
          "source_hidden": false,
          "outputs_hidden": false
        },
        "nteract": {
          "transient": {
            "deleting": false
          }
        },
        "gather": {
          "logged": 1669850297054
        }
      }
    },
    {
      "cell_type": "markdown",
      "source": [
        "Step: Get predictions for all data and just training"
      ],
      "metadata": {
        "nteract": {
          "transient": {
            "deleting": false
          }
        }
      }
    },
    {
      "cell_type": "code",
      "source": [
        "data_prob_all = fun_class_positive_predictions(\n",
        "    model=results_xgb,\n",
        "    x_train_or_test=data_trading_analysis_low_corr,\n",
        "    id_vars=[\"index\", \"result\"],\n",
        ")\n",
        "\n",
        "data_prob_train = fun_class_positive_predictions(\n",
        "    model=results_xgb,\n",
        "    x_train_or_test=x_train,\n",
        "    id_vars=[\"index\"],\n",
        ")\n",
        "\n",
        "data_prob_test = fun_class_positive_predictions(\n",
        "    model=results_xgb,\n",
        "    x_train_or_test=x_test,\n",
        "    id_vars=[\"index\"],\n",
        ")"
      ],
      "outputs": [
        {
          "output_type": "stream",
          "name": "stderr",
          "text": "/anaconda/envs/azureml_py38/lib/python3.8/site-packages/xgboost/data.py:192: FutureWarning: pandas.Int64Index is deprecated and will be removed from pandas in a future version. Use pandas.Index with the appropriate dtype instead.\n  from pandas import MultiIndex, Int64Index\n/anaconda/envs/azureml_py38/lib/python3.8/site-packages/xgboost/data.py:192: FutureWarning: pandas.Int64Index is deprecated and will be removed from pandas in a future version. Use pandas.Index with the appropriate dtype instead.\n  from pandas import MultiIndex, Int64Index\n/anaconda/envs/azureml_py38/lib/python3.8/site-packages/xgboost/data.py:192: FutureWarning: pandas.Int64Index is deprecated and will be removed from pandas in a future version. Use pandas.Index with the appropriate dtype instead.\n  from pandas import MultiIndex, Int64Index\n"
        }
      ],
      "execution_count": 20,
      "metadata": {
        "jupyter": {
          "source_hidden": false,
          "outputs_hidden": false
        },
        "nteract": {
          "transient": {
            "deleting": false
          }
        },
        "gather": {
          "logged": 1669845529996
        }
      }
    },
    {
      "cell_type": "markdown",
      "source": [
        "Step: Get threshold for imbalanced data"
      ],
      "metadata": {
        "nteract": {
          "transient": {
            "deleting": false
          }
        }
      }
    },
    {
      "cell_type": "code",
      "source": [
        "threshold = fun_imbalanced_threshold(\n",
        "    y_train=y_train, y_train_probability=data_prob_train\n",
        ")\n",
        "threshold"
      ],
      "outputs": [
        {
          "output_type": "execute_result",
          "execution_count": 21,
          "data": {
            "text/plain": "0.3648785"
          },
          "metadata": {}
        }
      ],
      "execution_count": 21,
      "metadata": {
        "jupyter": {
          "source_hidden": false,
          "outputs_hidden": false
        },
        "nteract": {
          "transient": {
            "deleting": false
          }
        },
        "gather": {
          "logged": 1669845533880
        }
      }
    },
    {
      "cell_type": "markdown",
      "source": [
        "Step: Get classification for all data"
      ],
      "metadata": {
        "nteract": {
          "transient": {
            "deleting": false
          }
        }
      }
    },
    {
      "cell_type": "code",
      "source": [
        "data_trading_classification = fun_class_predictions_id(\n",
        "    data_id=data_trading_analysis_low_corr[\"index\"],\n",
        "    outcome_probability=data_prob_all,\n",
        "    threshold=threshold,\n",
        ")"
      ],
      "outputs": [],
      "execution_count": 22,
      "metadata": {
        "jupyter": {
          "source_hidden": false,
          "outputs_hidden": false
        },
        "nteract": {
          "transient": {
            "deleting": false
          }
        },
        "gather": {
          "logged": 1669845538084
        }
      }
    },
    {
      "cell_type": "markdown",
      "source": [
        "Step: Get predicted y for training"
      ],
      "metadata": {
        "nteract": {
          "transient": {
            "deleting": false
          }
        }
      }
    },
    {
      "cell_type": "code",
      "source": [
        "y_predicted = fun_imbalanced_threshold_locator(\n",
        "    y_train=y_train,\n",
        "    y_train_probability=data_prob_train,\n",
        "    y_test_probability=data_prob_test,\n",
        ")"
      ],
      "outputs": [],
      "execution_count": 23,
      "metadata": {
        "jupyter": {
          "source_hidden": false,
          "outputs_hidden": false
        },
        "nteract": {
          "transient": {
            "deleting": false
          }
        },
        "gather": {
          "logged": 1669845541124
        }
      }
    },
    {
      "cell_type": "markdown",
      "source": [
        "Step: Get accuracy"
      ],
      "metadata": {
        "nteract": {
          "transient": {
            "deleting": false
          }
        }
      }
    },
    {
      "cell_type": "code",
      "source": [
        "results_accuracy = fun_class_accuracy_calcaulator(\n",
        "    y_test=y_test, y_predicted=y_predicted\n",
        ")\n",
        "results_accuracy"
      ],
      "outputs": [
        {
          "output_type": "execute_result",
          "execution_count": 24,
          "data": {
            "text/plain": "[               metric_type  metric_score\n 0  balanced_accuracy_score         0.112\n 1            roc_auc_score         0.556\n 2                 f1_score         0.815,\n {'balanced_accuracy': 0.11225328947368429,\n  'roc_auc_score': 0.556126644736842,\n  'f1_score': 0.8152380952380952}]"
          },
          "metadata": {}
        }
      ],
      "execution_count": 24,
      "metadata": {
        "jupyter": {
          "source_hidden": false,
          "outputs_hidden": false
        },
        "nteract": {
          "transient": {
            "deleting": false
          }
        },
        "gather": {
          "logged": 1669845544038
        }
      }
    }
  ],
  "metadata": {
    "kernelspec": {
      "name": "python38-azureml",
      "language": "python",
      "display_name": "Python 3.8 - AzureML"
    },
    "language_info": {
      "name": "python",
      "version": "3.8.5",
      "mimetype": "text/x-python",
      "codemirror_mode": {
        "name": "ipython",
        "version": 3
      },
      "pygments_lexer": "ipython3",
      "nbconvert_exporter": "python",
      "file_extension": ".py"
    },
    "kernel_info": {
      "name": "python38-azureml"
    },
    "microsoft": {
      "host": {
        "AzureML": {
          "notebookHasBeenCompleted": true
        }
      }
    },
    "nteract": {
      "version": "nteract-front-end@1.0.0"
    }
  },
  "nbformat": 4,
  "nbformat_minor": 2
}