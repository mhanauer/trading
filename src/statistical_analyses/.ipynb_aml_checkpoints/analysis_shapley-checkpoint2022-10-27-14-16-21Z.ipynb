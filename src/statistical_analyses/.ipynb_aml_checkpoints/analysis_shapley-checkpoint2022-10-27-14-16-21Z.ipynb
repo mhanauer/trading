{
  "cells": [
    {
      "cell_type": "markdown",
      "source": [
        "Step: Load in data and functions"
      ],
      "metadata": {
        "nteract": {
          "transient": {
            "deleting": false
          }
        }
      }
    },
    {
      "cell_type": "code",
      "source": [],
      "outputs": [],
      "execution_count": null,
      "metadata": {}
    },
    {
      "cell_type": "code",
      "source": [
        "import joblib\r\n",
        "import os\r\n",
        "from pyprojroot import here\r\n",
        "import pandas as pd\r\n",
        "import numpy as np\r\n",
        "import xgboost as xgb\r\n",
        "import shap\r\n",
        "from azureml.core import Workspace, Dataset, Datastore\r\n",
        "from analysis.fun_drop_high_correlation import fun_drop_high_correlation\r\n",
        "from data_cleaning.fun_load_shap_data import fun_load_shap_data\r\n",
        "from analysis.fun_class_shape_clean_up import fun_class_shape_clean_up\r\n",
        "path_data = here(\"./data\")\r\n",
        "os.chdir(path_data)\r\n",
        "data_trading_with_dummies = pd.read_parquet('data_trading_with_dummies.parquet')\r\n",
        "path_outputs = here(\"./outputs\")\r\n",
        "os.chdir(path_outputs)\r\n",
        "results_xgb = joblib.load(\"results_xgb.jlib\")"
      ],
      "outputs": [],
      "execution_count": 8,
      "metadata": {
        "jupyter": {
          "source_hidden": false,
          "outputs_hidden": false
        },
        "nteract": {
          "transient": {
            "deleting": false
          }
        },
        "gather": {
          "logged": 1669471233017
        }
      }
    },
    {
      "cell_type": "code",
      "source": [
        "data_trading_with_dummies = data_trading_with_dummies.reset_index()\r\n",
        "data_id = data_trading_with_dummies['index']\r\n",
        "data_trading = data_trading_with_dummies.drop(columns = ['index'])"
      ],
      "outputs": [],
      "execution_count": 9,
      "metadata": {
        "jupyter": {
          "source_hidden": false,
          "outputs_hidden": false
        },
        "nteract": {
          "transient": {
            "deleting": false
          }
        },
        "gather": {
          "logged": 1669471246820
        }
      }
    },
    {
      "cell_type": "code",
      "source": [
        "data_trading_shap = fun_class_shape_clean_up(data_shap = data_trading, data_id= data_id, model = results_xgb)\r\n",
        "os.chdir(path_data)\r\n",
        "data_trading_shap.to_parquet(\"data_trading_shap.parquet\")"
      ],
      "outputs": [],
      "execution_count": 12,
      "metadata": {
        "jupyter": {
          "source_hidden": false,
          "outputs_hidden": false
        },
        "nteract": {
          "transient": {
            "deleting": false
          }
        },
        "gather": {
          "logged": 1669471303564
        }
      }
    }
  ],
  "metadata": {
    "kernelspec": {
      "name": "python38-azureml",
      "language": "python",
      "display_name": "Python 3.8 - AzureML"
    },
    "language_info": {
      "name": "python",
      "version": "3.8.5",
      "mimetype": "text/x-python",
      "codemirror_mode": {
        "name": "ipython",
        "version": 3
      },
      "pygments_lexer": "ipython3",
      "nbconvert_exporter": "python",
      "file_extension": ".py"
    },
    "kernel_info": {
      "name": "python38-azureml"
    },
    "nteract": {
      "version": "nteract-front-end@1.0.0"
    },
    "microsoft": {
      "host": {
        "AzureML": {
          "notebookHasBeenCompleted": true
        }
      }
    }
  },
  "nbformat": 4,
  "nbformat_minor": 2
}