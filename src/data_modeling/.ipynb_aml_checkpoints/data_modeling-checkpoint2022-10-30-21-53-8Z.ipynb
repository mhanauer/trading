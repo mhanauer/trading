{
  "cells": [
    {
      "cell_type": "markdown",
      "source": [
        "Step: Load data"
      ],
      "metadata": {
        "nteract": {
          "transient": {
            "deleting": false
          }
        }
      }
    },
    {
      "cell_type": "code",
      "source": [
        "%load_ext lab_black"
      ],
      "outputs": [],
      "execution_count": 1,
      "metadata": {
        "jupyter": {
          "source_hidden": false,
          "outputs_hidden": false
        },
        "nteract": {
          "transient": {
            "deleting": false
          }
        }
      }
    },
    {
      "cell_type": "code",
      "source": [
        "import pandas as pd\n",
        "import numpy as np\n",
        "from skimpy import clean_columns\n",
        "from pyprojroot import here\n",
        "import os\n",
        "from data_cleaning.fun_cat_one_hot_high_var import fun_cat_one_hot_high_var\n",
        "\n",
        "path_data = here(\"./data\")\n",
        "os.chdir(path_data)\n",
        "data_trading = pd.read_csv(\"result_matrix_xgpredict.csv\")"
      ],
      "outputs": [],
      "execution_count": 2,
      "metadata": {
        "gather": {
          "logged": 1669844978846
        }
      }
    },
    {
      "cell_type": "code",
      "source": [
        "data_trading.columns"
      ],
      "outputs": [
        {
          "output_type": "execute_result",
          "execution_count": 3,
          "data": {
            "text/plain": "Index(['timestamp', 'buy', 'sell', 'qty', 'stp', 'mini_uptrend',\n       'major_uptrend', 'major_downtrend', 'above_average_volume',\n       'below_average_volume', 'hour_0', 'hour_1', 'hour_2', 'hour_3',\n       'hour_4', 'hour_5', 'macd_above_signal', 'high_rsi', 'low_rsi',\n       'high_buyers', 'high_sellers', 'high_close', 'low_close',\n       'below_projection', 'above_projection', 'volatility_high',\n       'volatility_low', 'pred', 'filled_timestamp', 'pl', 'result'],\n      dtype='object')"
          },
          "metadata": {}
        }
      ],
      "execution_count": 3,
      "metadata": {
        "jupyter": {
          "source_hidden": false,
          "outputs_hidden": false
        },
        "nteract": {
          "transient": {
            "deleting": false
          }
        },
        "gather": {
          "logged": 1669844982960
        }
      }
    },
    {
      "cell_type": "markdown",
      "source": [
        "Step: Remove timestamp variables and hot encode weekday, day, and hour"
      ],
      "metadata": {
        "nteract": {
          "transient": {
            "deleting": false
          }
        }
      }
    },
    {
      "cell_type": "code",
      "source": [
        "data_trading_good_features = data_trading.drop(\n",
        "    columns=[\"timestamp\", \"filled_timestamp\", \"pl\", \"buy\", \"sell\"]\n",
        ")"
      ],
      "outputs": [],
      "execution_count": 9,
      "metadata": {
        "jupyter": {
          "source_hidden": false,
          "outputs_hidden": false
        },
        "nteract": {
          "transient": {
            "deleting": false
          }
        },
        "gather": {
          "logged": 1669845177988
        }
      }
    },
    {
      "cell_type": "markdown",
      "source": [
        "Step: Change win / loss to 1 and 0"
      ],
      "metadata": {
        "nteract": {
          "transient": {
            "deleting": false
          }
        }
      }
    },
    {
      "cell_type": "code",
      "source": [
        "data_trading_good_features[\"result\"] = np.where(\n",
        "    data_trading_good_features[\"result\"] == \"win\", 1, 0\n",
        ")"
      ],
      "outputs": [],
      "execution_count": 10,
      "metadata": {
        "jupyter": {
          "source_hidden": false,
          "outputs_hidden": false
        },
        "nteract": {
          "transient": {
            "deleting": false
          }
        },
        "gather": {
          "logged": 1669845179163
        }
      }
    },
    {
      "cell_type": "markdown",
      "source": [
        "    Step: Save parquet"
      ],
      "metadata": {
        "nteract": {
          "transient": {
            "deleting": false
          }
        }
      }
    },
    {
      "cell_type": "code",
      "source": [
        "data_trading_good_features.to_parquet(\"data_trading_good_features.parquet\")"
      ],
      "outputs": [],
      "execution_count": 11,
      "metadata": {
        "jupyter": {
          "source_hidden": false,
          "outputs_hidden": false
        },
        "nteract": {
          "transient": {
            "deleting": false
          }
        },
        "gather": {
          "logged": 1669845182891
        }
      }
    }
  ],
  "metadata": {
    "kernelspec": {
      "name": "python38-azureml",
      "language": "python",
      "display_name": "Python 3.8 - AzureML"
    },
    "language_info": {
      "name": "python",
      "version": "3.8.5",
      "mimetype": "text/x-python",
      "codemirror_mode": {
        "name": "ipython",
        "version": 3
      },
      "pygments_lexer": "ipython3",
      "nbconvert_exporter": "python",
      "file_extension": ".py"
    },
    "kernel_info": {
      "name": "python38-azureml"
    },
    "microsoft": {
      "host": {
        "AzureML": {
          "notebookHasBeenCompleted": true
        }
      }
    },
    "nteract": {
      "version": "nteract-front-end@1.0.0"
    }
  },
  "nbformat": 4,
  "nbformat_minor": 2
}